{
 "cells": [
  {
   "cell_type": "code",
   "execution_count": 48,
   "metadata": {},
   "outputs": [],
   "source": [
    "import numpy\n",
    "import scipy.special"
   ]
  },
  {
   "cell_type": "code",
   "execution_count": 49,
   "metadata": {},
   "outputs": [],
   "source": [
    "import scipy.ndimage"
   ]
  },
  {
   "cell_type": "code",
   "execution_count": 97,
   "metadata": {},
   "outputs": [],
   "source": [
    "class neuralNetwork:\n",
    "    \n",
    "    def __init__(self, inputNodes, hiddenNodes, outputNodes, learningRate):\n",
    "        #Колво узлов\n",
    "        self.inodes = inputNodes\n",
    "        self.hnodes = hiddenNodes\n",
    "        self.onodes = outputNodes\n",
    "        \n",
    "        #Матрицы весовых коэффицентов\n",
    "        self.wih = numpy.random.normal(0.0, pow(self.hnodes, -0.5), (self.hnodes, self.inodes))\n",
    "        self.who = numpy.random.normal(0.0, pow(self.onodes, -0.5), (self.onodes, self.hnodes))\n",
    "        \n",
    "        #Коэффицент обучения\n",
    "        self.lr = learningRate;\n",
    "        \n",
    "        #Функция активация: здесь сигмоида 1/(1 + e^-x)\n",
    "        self.activationFunc = lambda x: scipy.special.expit(x)\n",
    "        self.inverse_activation_function = lambda x: scipy.special.logit(x)\n",
    "        pass\n",
    "    \n",
    "    def train(self, inputsList, targetsList):\n",
    "        inputs = numpy.array(inputsList, ndmin=2).T\n",
    "        targets = numpy.array(targetsList, ndmin=2).T\n",
    "        \n",
    "        #Входящие сигналы для скрытого слоя\n",
    "        hidden_inputs = numpy.dot(self.wih, inputs)\n",
    "        #Исходящий сигнал из скрытого слоя\n",
    "        hidden_outputs = self.activationFunc(hidden_inputs)\n",
    "        \n",
    "        #Входящий сигнал в выходной слой\n",
    "        final_inputs = numpy.dot(self.who, hidden_outputs)\n",
    "        #Выходящий сигнал из выходного слоя\n",
    "        final_outputs = self.activationFunc(final_inputs)\n",
    "        \n",
    "        #Ошибка = целевое значение - фактическое значение\n",
    "        output_errors = targets - final_outputs\n",
    "        #Ошибки скрытого слоя\n",
    "        hidden_errors = numpy.dot(self.who.T, output_errors)\n",
    "        \n",
    "        #Обновление весовых коэффицентов между скрытым слоем и выходным\n",
    "        self.who += self.lr * numpy.dot((output_errors * final_outputs * (1.0 - final_outputs)), numpy.transpose(hidden_outputs))\n",
    "        #Обновление весовых коэффицентов между входным слоем и скрытым\n",
    "        self.wih += self.lr * numpy.dot((hidden_errors * hidden_outputs * (1.0 - hidden_outputs)), numpy.transpose(inputs))\n",
    "        pass\n",
    "    \n",
    "    def query(self, inputsList):\n",
    "        inputs = numpy.array(inputsList, ndmin=2).T\n",
    "        \n",
    "        #Входящие сигналы для скрытого слоя\n",
    "        hidden_inputs = numpy.dot(self.wih, inputs)\n",
    "        #Исходящий сигнал из скрытого слоя\n",
    "        hidden_outputs = self.activationFunc(hidden_inputs)\n",
    "        \n",
    "        \n",
    "        #Входящий сигнал в выходной слой\n",
    "        final_inputs = numpy.dot(self.who, hidden_outputs)\n",
    "        #Выходящий сигнал из выходного слоя\n",
    "        final_outputs = self.activationFunc(final_inputs)\n",
    "        \n",
    "        return final_outputs\n",
    "    \n",
    "    def backquery(self, targets_list):\n",
    "        final_outputs = numpy.array(targets_list, ndmin=2).T\n",
    "        \n",
    "        final_inputs = self.inverse_activation_function(final_outputs)\n",
    "\n",
    "        hidden_outputs = numpy.dot(self.who.T, final_inputs)\n",
    "        \n",
    "        hidden_outputs -= numpy.min(hidden_outputs)\n",
    "        hidden_outputs /= numpy.max(hidden_outputs)\n",
    "        hidden_outputs *= 0.98\n",
    "        hidden_outputs += 0.01\n",
    "        \n",
    "        hidden_inputs = self.inverse_activation_function(hidden_outputs)\n",
    "        \n",
    "        inputs = numpy.dot(self.wih.T, hidden_inputs)\n",
    "        \n",
    "        inputs -= numpy.min(inputs)\n",
    "        inputs /= numpy.max(inputs)\n",
    "        inputs *= 0.98\n",
    "        inputs += 0.01\n",
    "        \n",
    "        return inputs   "
   ]
  },
  {
   "cell_type": "code",
   "execution_count": 98,
   "metadata": {},
   "outputs": [],
   "source": [
    "#Создание сети\n",
    "input_nodes = 784\n",
    "hidden_nodes = 200\n",
    "output_nodes = 10\n",
    "\n",
    "learning_rate = 0.01\n",
    "\n",
    "n = neuralNetwork(input_nodes, hidden_nodes, output_nodes, learning_rate)"
   ]
  },
  {
   "cell_type": "code",
   "execution_count": 52,
   "metadata": {},
   "outputs": [],
   "source": [
    "#Тренировка сети\n",
    "training_data_file = open(\"train.csv\", 'r')\n",
    "training_data_list = training_data_file.readlines()\n",
    "training_data_file.close()"
   ]
  },
  {
   "cell_type": "code",
   "execution_count": 53,
   "metadata": {},
   "outputs": [],
   "source": [
    "epochs = 10\n",
    "for e in range(epochs):  \n",
    "    for record in training_data_list:\n",
    "        all_values = record.split(',')\n",
    "        \n",
    "        #Целевое значение\n",
    "        targets = numpy.zeros(output_nodes) + 0.01\n",
    "        targets[int(all_values[0])] = 0.99\n",
    "        \n",
    "        #Оригинльное изображение\n",
    "        inputs = (numpy.asfarray(all_values[1:]) / 255.0 * 0.99) + 0.01\n",
    "        n.train(inputs, targets)\n",
    "        \n",
    "        #Поворот изображения на 10 градусов против часовой\n",
    "        inputs_plusx_img = scipy.ndimage.interpolation.rotate(inputs.reshape(28,28), 10, cval=0.01, order=1, reshape=False)\n",
    "        n.train(inputs_plusx_img.reshape(784), targets)\n",
    "        \n",
    "        #Поворот изображения на 10 градусов по часовой\n",
    "        inputs_minusx_img = scipy.ndimage.interpolation.rotate(inputs.reshape(28,28), -10, cval=0.01, order=1, reshape=False)\n",
    "        n.train(inputs_minusx_img.reshape(784), targets)\n",
    "    \n",
    "        pass\n",
    "    pass"
   ]
  },
  {
   "cell_type": "code",
   "execution_count": 54,
   "metadata": {},
   "outputs": [],
   "source": [
    "#Тестирование сети\n",
    "test_data_file = open(\"test.csv\", 'r')\n",
    "test_data_list = test_data_file.readlines()\n",
    "test_data_file.close()"
   ]
  },
  {
   "cell_type": "code",
   "execution_count": 100,
   "metadata": {},
   "outputs": [
    {
     "name": "stdout",
     "output_type": "stream",
     "text": [
      "Эффективность:  0.9761\n"
     ]
    }
   ],
   "source": [
    "scorecard = [] \n",
    "\n",
    "for record in test_data_list:\n",
    "    all_values = record.split(',')\n",
    "    correct = int(all_values[0])\n",
    "    \n",
    "    inputs = (numpy.asfarray(all_values[1:]) / 255.0 * 0.99) + 0.01\n",
    "    outputs = n.query(inputs)\n",
    "    \n",
    "    value = numpy.argmax(outputs)\n",
    "    \n",
    "    #print(\"Число\", correct, \"распозналось как\", value)\n",
    "    \n",
    "    if (value == correct):\n",
    "        scorecard.append(1)\n",
    "    else: scorecard.append(0)\n",
    "        \n",
    "scorecard_array = numpy.asarray(scorecard)\n",
    "print(\"Эффективность: \", scorecard_array.sum() / scorecard_array.size)"
   ]
  },
  {
   "cell_type": "code",
   "execution_count": 56,
   "metadata": {},
   "outputs": [],
   "source": [
    "import csv"
   ]
  },
  {
   "cell_type": "code",
   "execution_count": 57,
   "metadata": {},
   "outputs": [],
   "source": [
    "#Сохранение весов в csv файл\n",
    "fileWIH = \"wih.csv\"\n",
    "fileWHO = \"who.csv\"\n",
    "\n",
    "with open(fileWIH, \"w\", newline=\"\") as file:\n",
    "    writer = csv.writer(file)\n",
    "    writer.writerows(n.wih)\n",
    "    \n",
    "with open(fileWHO, \"w\", newline=\"\") as file:\n",
    "    writer = csv.writer(file)\n",
    "    writer.writerows(n.who)"
   ]
  },
  {
   "cell_type": "code",
   "execution_count": 99,
   "metadata": {},
   "outputs": [],
   "source": [
    "#Извлечение весов из csv файла\n",
    "with open(fileWIH, \"r\", newline=\"\") as file:\n",
    "    reader = csv.reader(file)\n",
    "    n.wih = numpy.genfromtxt(fileWIH, delimiter=',')\n",
    "with open(fileWHO, \"r\", newline=\"\") as file:\n",
    "    reader = csv.reader(file)\n",
    "    n.who = numpy.genfromtxt(fileWHO, delimiter=',')"
   ]
  },
  {
   "cell_type": "code",
   "execution_count": 63,
   "metadata": {},
   "outputs": [],
   "source": [
    "#Cвои изображения\n",
    "import matplotlib.pyplot\n",
    "%matplotlib inline\n",
    "\n",
    "import imageio"
   ]
  },
  {
   "cell_type": "code",
   "execution_count": 126,
   "metadata": {},
   "outputs": [
    {
     "name": "stdout",
     "output_type": "stream",
     "text": [
      "min =  0.01\n",
      "max =  1.0\n",
      "network says  6\n"
     ]
    },
    {
     "data": {
      "image/png": "[encoded data removed]",
      "text/plain": [
       "<Figure size 432x288 with 1 Axes>"
      ]
     },
     "metadata": {},
     "output_type": "display_data"
    }
   ],
   "source": [
    "img_array = imageio.imread('Image/6_3.png', as_gray=True)\n",
    "img_data  = 255.0 - img_array.reshape(784)\n",
    "img_data = (img_data / 255.0 * 0.99) + 0.01\n",
    "print(\"min = \", numpy.min(img_data))\n",
    "print(\"max = \", numpy.max(img_data))\n",
    "matplotlib.pyplot.imshow(img_data.reshape(28,28), cmap='Greys', interpolation='None')\n",
    "\n",
    "outputs = n.query(img_data)\n",
    "\n",
    "label = numpy.argmax(outputs)\n",
    "print(\"network says \", label)"
   ]
  },
  {
   "cell_type": "code",
   "execution_count": 127,
   "metadata": {},
   "outputs": [
    {
     "data": {
      "text/plain": [
       "<matplotlib.image.AxesImage at 0x2108fc06198>"
      ]
     },
     "execution_count": 127,
     "metadata": {},
     "output_type": "execute_result"
    },
    {
     "data": {
      "image/png": "[encoded data removed]",
      "text/plain": [
       "<Figure size 432x288 with 1 Axes>"
      ]
     },
     "metadata": {},
     "output_type": "display_data"
    }
   ],
   "source": [
    "#Представление числа внутри нейросети\n",
    "\n",
    "#Число\n",
    "label = 3\n",
    "\n",
    "targets = numpy.zeros(output_nodes) + 0.01\n",
    "targets[label] = 0.99\n",
    "\n",
    "image_data = n.backquery(targets)\n",
    "matplotlib.pyplot.imshow(image_data.reshape(28,28), cmap='Greys', interpolation='None')"
   ]
  }
 ],
 "metadata": {
  "kernelspec": {
   "display_name": "Python 3",
   "language": "python",
   "name": "python3"
  },
  "language_info": {
   "codemirror_mode": {
    "name": "ipython",
    "version": 3
   },
   "file_extension": ".py",
   "mimetype": "text/x-python",
   "name": "python",
   "nbconvert_exporter": "python",
   "pygments_lexer": "ipython3",
   "version": "3.6.5"
  }
 },
 "nbformat": 4,
 "nbformat_minor": 2
}
